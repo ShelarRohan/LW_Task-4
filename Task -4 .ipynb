{
 "cells": [
  {
   "cell_type": "code",
   "execution_count": null,
   "id": "20c4ea84",
   "metadata": {},
   "outputs": [],
   "source": [
    "#Task-4.1 : Create image by yourself using python code "
   ]
  },
  {
   "cell_type": "code",
   "execution_count": 1,
   "id": "cdd33a5b",
   "metadata": {},
   "outputs": [],
   "source": [
    "#Import Modules \n",
    "import numpy \n",
    "import cv2"
   ]
  },
  {
   "cell_type": "code",
   "execution_count": 2,
   "id": "09aa8b04",
   "metadata": {},
   "outputs": [],
   "source": [
    "image = numpy.zeros((600,600,3))"
   ]
  },
  {
   "cell_type": "code",
   "execution_count": 3,
   "id": "22f7de7c",
   "metadata": {},
   "outputs": [],
   "source": [
    "#Creating own image\n",
    "\n",
    "Image = cv2.circle(image, (300,300), 300, [255,0,0], 3)\n",
    "Image = cv2.circle(image, (300,300), 250, [0,255,0], 3)\n",
    "Image = cv2.circle(image, (300,300), 200, [0,0,255], 3)\n",
    "Image = cv2.circle(image, (300,300), 150, [255,100,0], 3)\n",
    "Image = cv2.circle(image, (300,300), 100, [100,100,0], 3)\n",
    "Image = cv2.circle(image, (300,300), 50, [255,255,255], 3)\n",
    "Image = cv2.circle(image, (300,300), 25, [150,0,0], 3)\n",
    "\n",
    "\n",
    "cv2.imshow('Image',image)\n",
    "cv2.waitKey()\n",
    "cv2.destroyAllWindows()"
   ]
  },
  {
   "cell_type": "code",
   "execution_count": null,
   "id": "2c78804e",
   "metadata": {},
   "outputs": [],
   "source": [
    "#Task-4.2 : Take two images crop some part of both the images and swap it"
   ]
  },
  {
   "cell_type": "code",
   "execution_count": 4,
   "id": "d6f8f6b1",
   "metadata": {},
   "outputs": [],
   "source": [
    "dog = cv2.imread(\"dog.jpeg\")"
   ]
  },
  {
   "cell_type": "code",
   "execution_count": 5,
   "id": "87a5ce44",
   "metadata": {},
   "outputs": [],
   "source": [
    "lion= cv2.imread(\"lion.jpeg\")"
   ]
  },
  {
   "cell_type": "code",
   "execution_count": 6,
   "id": "80db646d",
   "metadata": {},
   "outputs": [],
   "source": [
    "# Opening first image\n",
    "\n",
    "cv2.imshow(\"dog\",dog)\n",
    "cv2.waitKey()\n",
    "cv2.destroyAllWindows()"
   ]
  },
  {
   "cell_type": "code",
   "execution_count": 7,
   "id": "67797135",
   "metadata": {},
   "outputs": [],
   "source": [
    "# Opening second image\n",
    "\n",
    "cv2.imshow(\"lion\",lion)\n",
    "cv2.waitKey()\n",
    "cv2.destroyAllWindows()"
   ]
  },
  {
   "cell_type": "code",
   "execution_count": 8,
   "id": "c61e1e72",
   "metadata": {},
   "outputs": [],
   "source": [
    "#Croping first image\n",
    "\n",
    "crop_dog = dog[10:360,100:320]\n",
    "cv2.imshow(\"crop_first\",crop_dog)\n",
    "cv2.waitKey()\n",
    "cv2.destroyAllWindows()"
   ]
  },
  {
   "cell_type": "code",
   "execution_count": 9,
   "id": "8f983ab6",
   "metadata": {},
   "outputs": [],
   "source": [
    "# Croping second image\n",
    "\n",
    "crop_lion = lion[0:350,100:320]\n",
    "cv2.imshow(\"crop_second\",crop_lion)\n",
    "cv2.waitKey()\n",
    "cv2.destroyAllWindows()"
   ]
  },
  {
   "cell_type": "code",
   "execution_count": 10,
   "id": "0f654717",
   "metadata": {},
   "outputs": [],
   "source": [
    "# Swapping both the images \n",
    "lion[10:360,100:320]=crop_dog\n",
    "cv2.imshow(\"swap1\",lion)\n",
    "cv2.waitKey()\n",
    "cv2.destroyAllWindows()"
   ]
  },
  {
   "cell_type": "code",
   "execution_count": null,
   "id": "7477c9f2",
   "metadata": {},
   "outputs": [],
   "source": [
    "#Task-4.3 : Take two images and combine them to form single image"
   ]
  },
  {
   "cell_type": "code",
   "execution_count": 11,
   "id": "f0f91fa5",
   "metadata": {},
   "outputs": [],
   "source": [
    "#First image\n",
    "\n",
    "first = cv2.imread(\"left_part.jpg\")\n",
    "cv2.imshow(\"Left\",first)\n",
    "cv2.waitKey()\n",
    "cv2.destroyAllWindows()\n",
    "\n"
   ]
  },
  {
   "cell_type": "code",
   "execution_count": 12,
   "id": "30a3c751",
   "metadata": {},
   "outputs": [],
   "source": [
    "# Second image\n",
    "second = cv2.imread(\"right_part.jpg\")\n",
    "cv2.imshow(\"right\",second)\n",
    "cv2.waitKey()\n",
    "cv2.destroyAllWindows()\n"
   ]
  },
  {
   "cell_type": "code",
   "execution_count": 13,
   "id": "e956e30e",
   "metadata": {},
   "outputs": [],
   "source": [
    "# Joining two images to form \n",
    "res = numpy.concatenate((first,second),axis=1)\n"
   ]
  },
  {
   "cell_type": "code",
   "execution_count": 14,
   "id": "0912d986",
   "metadata": {},
   "outputs": [],
   "source": [
    "# Opening the newly formed image\n",
    "\n",
    "cv2.imshow(\"Res\",res)\n",
    "cv2.waitKey()\n",
    "cv2.destroyAllWindows()\n"
   ]
  },
  {
   "cell_type": "code",
   "execution_count": null,
   "id": "6a39796f",
   "metadata": {},
   "outputs": [],
   "source": []
  }
 ],
 "metadata": {
  "kernelspec": {
   "display_name": "Python 3",
   "language": "python",
   "name": "python3"
  },
  "language_info": {
   "codemirror_mode": {
    "name": "ipython",
    "version": 3
   },
   "file_extension": ".py",
   "mimetype": "text/x-python",
   "name": "python",
   "nbconvert_exporter": "python",
   "pygments_lexer": "ipython3",
   "version": "3.8.8"
  }
 },
 "nbformat": 4,
 "nbformat_minor": 5
}
